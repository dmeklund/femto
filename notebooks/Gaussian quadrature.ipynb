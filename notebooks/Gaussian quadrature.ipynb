{
 "cells": [
  {
   "cell_type": "markdown",
   "metadata": {},
   "source": [
    "# Gaussian quadrature in 1D\n",
    "\n",
    "Want to numerically solve:\n",
    "\n",
    "$\\int_{-1}^{1} g(x)\\;\\mathrm{d}x \\approx \\sum_{i=1}^{N} w_i\\,g(x_i)$\n",
    "\n",
    "s.t. the formula is exact for polynomials of order $2N-1$ and below. We can prove that the "
   ]
  },
  {
   "cell_type": "code",
   "execution_count": null,
   "metadata": {},
   "outputs": [],
   "source": []
  }
 ],
 "metadata": {
  "kernelspec": {
   "display_name": "SageMath 8.2",
   "language": "",
   "name": "sagemath"
  },
  "language_info": {
   "codemirror_mode": {
    "name": "ipython",
    "version": 2
   },
   "file_extension": ".py",
   "mimetype": "text/x-python",
   "name": "python",
   "nbconvert_exporter": "python",
   "pygments_lexer": "ipython2",
   "version": "2.7.14"
  }
 },
 "nbformat": 4,
 "nbformat_minor": 2
}
