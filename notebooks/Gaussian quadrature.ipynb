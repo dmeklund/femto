{
 "cells": [
  {
   "cell_type": "markdown",
   "metadata": {},
   "source": [
    "# Gaussian quadrature in 1D\n",
    "\n",
    "Want to numerically solve:\n",
    "\n",
    "$$\n",
    "\\int_{-1}^{1} g(\\xi)\\;\\mathrm{d}x \\approx \\sum_{i=1}^{N} w_i\\,g(\\xi_i)\n",
    "$$\n",
    "\n",
    "s.t. the formula is exact for polynomials of order $2N-1$ and below. \n",
    "\n",
    "On an arbitrary interval, this becomes:\n",
    "\n",
    "$$\n",
    "\\int_{a}^{b} g(x)\\;\\mathrm{d}x \\approx \\frac{b-a}{2} \\sum_{i=1}^{N} w_i\\,g \\big( a + \\frac{b-a}{2} (1+\\xi_i) \\big)\n",
    "$$\n",
    "\n",
    "The nodes are the roots of the i'th normalized Legendre polynomial, and the weights equal to:\n",
    "\n",
    "$$\n",
    "w_i = \\frac{2}{(1-\\xi_{i}^{2})\\left[P_{n}'(\\xi_i)\\right]^2}\n",
    "$$"
   ]
  },
  {
   "cell_type": "markdown",
   "metadata": {},
   "source": [
    "# Gaussian quadrature in 2D\n",
    "\n",
    "## Standard quadrilateral elements\n",
    "\n",
    "Define the standard quadrilateral element $R_{st}= [-1, 1]^2$. Want to numerically solve\n",
    "\n",
    "$$\n",
    "\\iint_{R_{st}} g(\\xi, \\eta)\\;\\mathrm{d}\\xi\\,\\mathrm{d}\\eta = \\int_{-1}^{1}\\int_{-1}^{1}g(\\xi, \\eta)\\;\\mathrm{d}\\xi\\,\\mathrm{d}\\eta\n",
    "$$\n",
    "\n",
    "This can be numerically integrated twice to get\n",
    "\n",
    "$$\n",
    "\\int_{-1}^{1} g(\\xi, \\eta)\\;\\mathrm{d}\\xi\\,\\mathrm{d}\\eta \\approx \\sum_{i=1}^M \\sum_{j=1}^N w_i \\hat{w}_{j} g(\\xi_i, \\eta_j)\n",
    "$$\n",
    "\n",
    "which will be exact for integrand polynomials containing only the monomials $\\xi^{i}\\eta^{j}$ with $(i=0, 1, \\dots, 2M-1, j = 0, 1, \\dots, 2N-1)$.\n",
    "\n"
   ]
  },
  {
   "cell_type": "markdown",
   "metadata": {},
   "source": [
    "## General quadrilateral elements\n",
    "\n",
    "Construct a linear mapping from general quadrilateral element $K$ to the standard quadrilateral element $R_{st}$ using the nodal shape functions of the standard quadrilateral element:\n",
    "\n",
    "$$\n",
    "\\begin{align*}\n",
    "N_1(\\xi, \\eta) &= \\frac{1}{4}(1-\\xi)(1-\\eta) \\\\\n",
    "N_2(\\xi, \\eta) &= \\frac{1}{4}(1+\\xi)(1-\\eta) \\\\\n",
    "N_3(\\xi, \\eta) &= \\frac{1}{4}(1+\\xi)(1+\\eta) \\\\\n",
    "N_4(\\xi, \\eta) &= \\frac{1}{4}(1-\\xi)(1+\\eta)\n",
    "\\end{align*}\n",
    "$$\n",
    "\n",
    "The mapping then from a quadrilateral $(x_i, y_i), i=1,2,3,4$ arranged in counter-clockwise order is:\n",
    "\n",
    "$$\n",
    "\\begin{align*}\n",
    "x&=P(\\xi, \\eta)=\\sum_{i=1}^{4}x_i\\,N_i(\\xi, \\eta) \\\\\n",
    "y&=Q(\\xi, \\eta)=\\sum_{i=1}^{4}y_i\\,N_i(\\xi, \\eta)\n",
    "\\end{align*}\n",
    "$$\n",
    "\n",
    "Then the integral can be expressed as\n",
    "\n",
    "$$\n",
    "\\iint_{K} g(x,y)\\;\\mathrm{d}x\\,\\mathrm{d}y = \\iint_{R_{st}}F(P(\\xi,\\eta),Q(\\xi,\\eta))\\,\\left|J(\\xi,\\eta)\\right|\\;\\mathrm{d}\\xi\\,\\mathrm{d}\\eta\n",
    "$$\n",
    "\n",
    "where $J(\\xi,\\eta)$ is the Jacobian of the transformation\n",
    "\n",
    "$$\n",
    "J(\\xi,\\eta) = \\begin{vmatrix}\n",
    "  \\frac{\\partial x}{\\partial \\xi} & \\frac{\\partial y}{\\partial \\xi} \\\\\n",
    "  \\frac{\\partial x}{\\partial \\eta} & \\frac{\\partial y}{\\partial \\eta}\n",
    "\\end{vmatrix}\n",
    "$$\n",
    "\n",
    "Given the formula for the standard equilateral, the numerical solution for general quadrilateral elements is then:\n",
    "\n",
    "$$\n",
    "\\iint_{K} g(x,y)\\;\\mathrm{d}x\\,\\mathrm{d}y \\approx \\sum_{i=1}^{N} \\sum_{j=1}^{N} w_i w_j\\,g(P(\\xi_i, \\xi_j), Q(\\xi_i, \\xi_j)) \\left| J(\\xi_i, \\xi_j)\\right|\n",
    "$$\n",
    "\n",
    "assuming $M=N$."
   ]
  },
  {
   "cell_type": "markdown",
   "metadata": {},
   "source": [
    "# Gaussian quadrature for triangular elements\n",
    "\n",
    "## Gaussian quadrature for the standard triangular element\n",
    "\n",
    "Define the standard triangular element:\n",
    "\n",
    "$$\n",
    "T_{st} = \\left\\{(\\xi, \\eta) : 0 \\le \\xi, \\eta, \\xi + \\eta \\le 1\\right\\}\n",
    "$$"
   ]
  },
  {
   "cell_type": "code",
   "execution_count": null,
   "metadata": {},
   "outputs": [],
   "source": []
  }
 ],
 "metadata": {
  "kernelspec": {
   "display_name": "SageMath 8.1",
   "language": "",
   "name": "sagemath"
  },
  "language_info": {
   "codemirror_mode": {
    "name": "ipython",
    "version": 2
   },
   "file_extension": ".py",
   "mimetype": "text/x-python",
   "name": "python",
   "nbconvert_exporter": "python",
   "pygments_lexer": "ipython2",
   "version": "2.7.15rc1"
  }
 },
 "nbformat": 4,
 "nbformat_minor": 2
}
