{
 "cells": [
  {
   "cell_type": "code",
   "execution_count": 3,
   "metadata": {},
   "outputs": [
    {
     "data": {
      "text/html": [
       "<html><script type=\"math/tex; mode=display\">\\newcommand{\\Bold}[1]{\\mathbf{#1}}\\frac{\\frac{{\\left(x + 1\\right)}^{\\frac{3}{2}}}{x^{\\frac{3}{2}}} + \\frac{\\sqrt{x + 1}}{\\sqrt{x}}}{4 \\, {\\left(\\frac{{\\left(x + 1\\right)}^{2}}{x^{2}} - \\frac{2 \\, {\\left(x + 1\\right)}}{x} + 1\\right)}} - \\frac{1}{8} \\, \\log\\left(\\frac{\\sqrt{x + 1}}{\\sqrt{x}} + 1\\right) + \\frac{1}{8} \\, \\log\\left(\\frac{\\sqrt{x + 1}}{\\sqrt{x}} - 1\\right)</script></html>"
      ],
      "text/plain": [
       "1/4*((x + 1)^(3/2)/x^(3/2) + sqrt(x + 1)/sqrt(x))/((x + 1)^2/x^2 - 2*(x + 1)/x + 1) - 1/8*log(sqrt(x + 1)/sqrt(x) + 1) + 1/8*log(sqrt(x + 1)/sqrt(x) - 1)"
      ]
     },
     "execution_count": 3,
     "metadata": {},
     "output_type": "execute_result"
    }
   ],
   "source": [
    "%display latex\n",
    "x = var('x')\n",
    "integrate(sqrt(x)*sqrt(1+x), x)"
   ]
  },
  {
   "cell_type": "code",
   "execution_count": null,
   "metadata": {},
   "outputs": [],
   "source": []
  }
 ],
 "metadata": {
  "kernelspec": {
   "display_name": "SageMath 8.2",
   "language": "",
   "name": "sagemath"
  },
  "language_info": {
   "codemirror_mode": {
    "name": "ipython",
    "version": 2
   },
   "file_extension": ".py",
   "mimetype": "text/x-python",
   "name": "python",
   "nbconvert_exporter": "python",
   "pygments_lexer": "ipython2",
   "version": "2.7.14"
  }
 },
 "nbformat": 4,
 "nbformat_minor": 2
}
